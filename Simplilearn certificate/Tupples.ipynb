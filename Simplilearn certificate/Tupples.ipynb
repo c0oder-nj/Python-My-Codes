{
 "cells": [
  {
   "cell_type": "markdown",
   "id": "f0b11672",
   "metadata": {},
   "source": [
    "# Tupples\n"
   ]
  },
  {
   "cell_type": "code",
   "execution_count": 1,
   "id": "f80c90e9",
   "metadata": {},
   "outputs": [],
   "source": [
    "emp = ()"
   ]
  },
  {
   "cell_type": "code",
   "execution_count": 2,
   "id": "bad28676",
   "metadata": {},
   "outputs": [
    {
     "name": "stdout",
     "output_type": "stream",
     "text": [
      "<class 'tuple'>\n"
     ]
    }
   ],
   "source": [
    "print(type(emp))"
   ]
  },
  {
   "cell_type": "code",
   "execution_count": 3,
   "id": "aedead1c",
   "metadata": {},
   "outputs": [],
   "source": [
    "city=\"Pune\","
   ]
  },
  {
   "cell_type": "code",
   "execution_count": 4,
   "id": "fbed8429",
   "metadata": {},
   "outputs": [
    {
     "name": "stdout",
     "output_type": "stream",
     "text": [
      "<class 'tuple'>\n"
     ]
    }
   ],
   "source": [
    "print(type(city))"
   ]
  },
  {
   "cell_type": "code",
   "execution_count": 5,
   "id": "62977d29",
   "metadata": {},
   "outputs": [],
   "source": [
    "city=(\"Pune\")"
   ]
  },
  {
   "cell_type": "code",
   "execution_count": 6,
   "id": "4d5b14f5",
   "metadata": {},
   "outputs": [
    {
     "name": "stdout",
     "output_type": "stream",
     "text": [
      "<class 'tuple'>\n"
     ]
    }
   ],
   "source": [
    "print(type(city))"
   ]
  },
  {
   "cell_type": "code",
   "execution_count": 9,
   "id": "ccc7e894",
   "metadata": {},
   "outputs": [
    {
     "name": "stdout",
     "output_type": "stream",
     "text": [
      "<class 'tuple'>\n"
     ]
    }
   ],
   "source": [
    "state=(\"mp\",)\n",
    "print(type(state))"
   ]
  }
 ],
 "metadata": {
  "kernelspec": {
   "display_name": "Python 3 (ipykernel)",
   "language": "python",
   "name": "python3"
  },
  "language_info": {
   "codemirror_mode": {
    "name": "ipython",
    "version": 3
   },
   "file_extension": ".py",
   "mimetype": "text/x-python",
   "name": "python",
   "nbconvert_exporter": "python",
   "pygments_lexer": "ipython3",
   "version": "3.10.8"
  }
 },
 "nbformat": 4,
 "nbformat_minor": 5
}
