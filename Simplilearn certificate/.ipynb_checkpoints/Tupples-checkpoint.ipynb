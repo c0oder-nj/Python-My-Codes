{
 "cells": [
  {
   "cell_type": "markdown",
   "id": "49d68b07",
   "metadata": {},
   "source": [
    "# Tupples\n"
   ]
  },
  {
   "cell_type": "code",
   "execution_count": 1,
   "id": "a9c75b1e",
   "metadata": {},
   "outputs": [],
   "source": [
    "emp = ()"
   ]
  },
  {
   "cell_type": "code",
   "execution_count": 2,
   "id": "ddb829d6",
   "metadata": {},
   "outputs": [
    {
     "name": "stdout",
     "output_type": "stream",
     "text": [
      "<class 'tuple'>\n"
     ]
    }
   ],
   "source": [
    "print(type(emp))"
   ]
  },
  {
   "cell_type": "code",
   "execution_count": 3,
   "id": "b292b759",
   "metadata": {},
   "outputs": [],
   "source": [
    "city=\"Pune\","
   ]
  },
  {
   "cell_type": "code",
   "execution_count": 4,
   "id": "b5430a6a",
   "metadata": {},
   "outputs": [
    {
     "name": "stdout",
     "output_type": "stream",
     "text": [
      "<class 'tuple'>\n"
     ]
    }
   ],
   "source": [
    "print(type(city))"
   ]
  },
  {
   "cell_type": "code",
   "execution_count": 5,
   "id": "60097c89",
   "metadata": {},
   "outputs": [],
   "source": [
    "city=(\"Pune\")"
   ]
  },
  {
   "cell_type": "code",
   "execution_count": null,
   "id": "d69da88c",
   "metadata": {},
   "outputs": [],
   "source": []
  }
 ],
 "metadata": {
  "kernelspec": {
   "display_name": "Python 3 (ipykernel)",
   "language": "python",
   "name": "python3"
  },
  "language_info": {
   "codemirror_mode": {
    "name": "ipython",
    "version": 3
   },
   "file_extension": ".py",
   "mimetype": "text/x-python",
   "name": "python",
   "nbconvert_exporter": "python",
   "pygments_lexer": "ipython3",
   "version": "3.10.8"
  }
 },
 "nbformat": 4,
 "nbformat_minor": 5
}
